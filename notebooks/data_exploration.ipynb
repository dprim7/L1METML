{
 "cells": [
  {
   "cell_type": "code",
   "execution_count": null,
   "metadata": {},
   "outputs": [
    {
     "ename": "ModuleNotFoundError",
     "evalue": "No module named 'L1METML'",
     "output_type": "error",
     "traceback": [
      "\u001b[0;31m---------------------------------------------------------------------------\u001b[0m",
      "\u001b[0;31mModuleNotFoundError\u001b[0m                       Traceback (most recent call last)",
      "Cell \u001b[0;32mIn[61], line 12\u001b[0m\n\u001b[1;32m     10\u001b[0m \u001b[38;5;28;01mimport\u001b[39;00m\u001b[38;5;250m \u001b[39m\u001b[38;5;21;01mmplhep\u001b[39;00m\u001b[38;5;250m \u001b[39m\u001b[38;5;28;01mas\u001b[39;00m\u001b[38;5;250m \u001b[39m\u001b[38;5;21;01mhep\u001b[39;00m\n\u001b[1;32m     11\u001b[0m \u001b[38;5;28;01mimport\u001b[39;00m\u001b[38;5;250m \u001b[39m\u001b[38;5;21;01mhist\u001b[39;00m\n\u001b[0;32m---> 12\u001b[0m \u001b[38;5;28;01mfrom\u001b[39;00m\u001b[38;5;250m \u001b[39m\u001b[38;5;21;01mL1METML\u001b[39;00m\u001b[38;5;21;01m.\u001b[39;00m\u001b[38;5;21;01mutils\u001b[39;00m\u001b[38;5;250m \u001b[39m\u001b[38;5;28;01mimport\u001b[39;00m ShapeVar\n",
      "\u001b[0;31mModuleNotFoundError\u001b[0m: No module named 'L1METML'"
     ]
    }
   ],
   "source": [
    "import sys\n",
    "sys.path.append(\"/home/users/dprimosc/L1METML\")\n",
    "\n",
    "import uproot\n",
    "import os \n",
    "import h5py\n",
    "import matplotlib.pyplot as plt\n",
    "import matplotlib.ticker as ticker\n",
    "import numpy as np\n",
    "import mplhep as hep\n",
    "import hist\n",
    "from L1METML.utils import ShapeVar\n"
   ]
  },
  {
   "cell_type": "code",
   "execution_count": 2,
   "metadata": {},
   "outputs": [
    {
     "name": "stdout",
     "output_type": "stream",
     "text": [
      "X shape: (298999, 128, 8), Y shape: (298999, 2)\n",
      "First X sample:\n",
      " 2.25\n",
      "First Y sample:\n",
      " [ 9.49965668 34.8512764 ]\n"
     ]
    }
   ],
   "source": [
    "h5_file = \"/ceph/cms/store/user/dprimosc/l1deepmet_data/25May15_140X_v0/perfNano_TT_PU200.h5\"\n",
    "\n",
    "with h5py.File(h5_file, \"r\") as f:\n",
    "    X = f[\"X\"][:]  # Load entire dataset\n",
    "    Y = f[\"Y\"][:]\n",
    "    \n",
    "    print(f\"X shape: {X.shape}, Y shape: {Y.shape}\")\n",
    "    \n",
    "    # Show a few samples\n",
    "    print(\"First X sample:\\n\", X[0, 0,0])\n",
    "    print(\"First Y sample:\\n\", Y[0])"
   ]
  },
  {
   "cell_type": "code",
   "execution_count": 4,
   "metadata": {},
   "outputs": [],
   "source": [
    "with h5py.File(h5_file, \"r\") as f:\n",
    "    if \"feature_names\" in f:\n",
    "        feature_names = f[\"feature_names\"][:]\n",
    "        print(\"Feature names:\", feature_names)\n",
    "    elif \"X_names\" in f:\n",
    "        feature_names = f[\"X_names\"][:]\n",
    "        print(\"Feature names:\", feature_names)"
   ]
  },
  {
   "cell_type": "code",
   "execution_count": null,
   "metadata": {},
   "outputs": [
    {
     "data": {
      "image/png": "[encoded data removed]",
      "text/plain": [
       "<Figure size 640x480 with 1 Axes>"
      ]
     },
     "metadata": {},
     "output_type": "display_data"
    }
   ],
   "source": [
    "# Plot histograms for each feature\n",
    "num_features = X.shape[2]\n",
    "\n",
    "# Count zero values for p_T\n",
    "# NB: p_T is ordered\n",
    "'''\n",
    "num_zeros_X = np.sum(X[:, 5, 0] == 0)\n",
    "num_non_zeros_X = np.sum(X[:, 5, 0] != 0)\n",
    "percent_zeros_X = (num_zeros_X / (num_zeros_X + num_non_zeros_X)) * 100\n",
    "\n",
    "print(f\"Number of zero values in X: {num_zeros_X}\")\n",
    "print(f\"Number of non-zero values in X: {num_non_zeros_X}\")\n",
    "'''\n",
    "p_T = X[:, :, 0].flatten()\n",
    "p_T_nonzero = p_T[p_T != 0]\n",
    "\n",
    "fig, axes = plt.subplots()\n",
    "\n",
    "ax = axes\n",
    "ax.hist(p_T_nonzero, bins=500, alpha=0.7, color=\"blue\")\n",
    "ax.set_title(f\"p_T Distribution\")\n",
    "ax.set_xlabel(f\"p_T (GeV)\")\n",
    "ax.set_xlim(0, 500)\n",
    "ax.set_ylim(1, 8500000)\n",
    "ax.set_ylabel(\"Counts\")\n",
    "ax.set_yscale(\"log\")\n",
    "\n",
    "cat_axis = hist.axis.StrCategory([], name=\"cat\", label=\"cat\", growth=True)\n",
    "p_T_var = ShapeVar(var=\"H1Msd\", label=r\"$m_{SD}^{1}$ (GeV)\", bins=[30, 0, 300])\n",
    "h = hist.Hist(cat_axis, shape_var.axis)\n",
    "            \n",
    "h.fill(key, X_train.loc[key, shape_var.var], weight=weights_train[key])\n",
    "\n",
    "fig, ax = plt.subplots(1, 1, figsize=(12, 8))\n",
    "hep.histplot(\n",
    "            h[{\"cat\": key}],\n",
    "            ax=ax,\n",
    "            label=f\"{legends[key]}\",\n",
    "            histtype=\"step\",\n",
    "            linewidth=1,\n",
    "            color='blue',\n",
    "            density=True,\n",
    "            flow=\"none\",\n",
    "                )\n",
    "\n",
    "plt.tight_layout()\n",
    "plt.show()\n",
    "\n",
    "assert not np.isnan(X).any(), \"X contains NaN values!\"\n",
    "assert not np.isnan(Y).any(), \"Y contains NaN values!\"\n",
    "assert not np.isinf(X).any(), \"X contains infinite values!\"\n",
    "assert not np.isinf(Y).any(), \"Y contains infinite values!\"\n",
    "\n"
   ]
  },
  {
   "cell_type": "code",
   "execution_count": null,
   "metadata": {},
   "outputs": [],
   "source": []
  }
 ],
 "metadata": {
  "kernelspec": {
   "display_name": "l1metml",
   "language": "python",
   "name": "python3"
  },
  "language_info": {
   "codemirror_mode": {
    "name": "ipython",
    "version": 3
   },
   "file_extension": ".py",
   "mimetype": "text/x-python",
   "name": "python",
   "nbconvert_exporter": "python",
   "pygments_lexer": "ipython3",
   "version": "3.9.20"
  }
 },
 "nbformat": 4,
 "nbformat_minor": 2
}
